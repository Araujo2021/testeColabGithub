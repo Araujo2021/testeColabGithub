{
  "nbformat": 4,
  "nbformat_minor": 0,
  "metadata": {
    "colab": {
      "name": "example-plot-function.ipynb",
      "provenance": [],
      "authorship_tag": "ABX9TyMpjBdA3+8WdvE8FsOFVyGc",
      "include_colab_link": true
    },
    "kernelspec": {
      "name": "python3",
      "display_name": "Python 3"
    },
    "language_info": {
      "name": "python"
    },
    "widgets": {
      "application/vnd.jupyter.widget-state+json": {
        "70b985f8fb2a4342b27dca9a2d8f35cd": {
          "model_module": "@jupyter-widgets/controls",
          "model_name": "VBoxModel",
          "state": {
            "_view_name": "VBoxView",
            "_dom_classes": [
              "widget-interact"
            ],
            "_model_name": "VBoxModel",
            "_view_module": "@jupyter-widgets/controls",
            "_model_module_version": "1.5.0",
            "_view_count": null,
            "_view_module_version": "1.5.0",
            "box_style": "",
            "layout": "IPY_MODEL_608f400409ed47a28d946a5b755df269",
            "_model_module": "@jupyter-widgets/controls",
            "children": [
              "IPY_MODEL_9d631200958f414b91261270b64b94a3",
              "IPY_MODEL_f2be40600a204451a56cc52b8534e42a",
              "IPY_MODEL_07ca95cd67b54f2c9794949b165bac45",
              "IPY_MODEL_7e58e55fe4cf48e68ae136cfecfc0e5b",
              "IPY_MODEL_10c47e1a8493452d8307d5342af1a284",
              "IPY_MODEL_ee5a8dc283364514a2423d0109dd0b80"
            ]
          }
        },
        "608f400409ed47a28d946a5b755df269": {
          "model_module": "@jupyter-widgets/base",
          "model_name": "LayoutModel",
          "state": {
            "_view_name": "LayoutView",
            "grid_template_rows": null,
            "right": null,
            "justify_content": null,
            "_view_module": "@jupyter-widgets/base",
            "overflow": null,
            "_model_module_version": "1.2.0",
            "_view_count": null,
            "flex_flow": null,
            "width": null,
            "min_width": null,
            "border": null,
            "align_items": null,
            "bottom": null,
            "_model_module": "@jupyter-widgets/base",
            "top": null,
            "grid_column": null,
            "overflow_y": null,
            "overflow_x": null,
            "grid_auto_flow": null,
            "grid_area": null,
            "grid_template_columns": null,
            "flex": null,
            "_model_name": "LayoutModel",
            "justify_items": null,
            "grid_row": null,
            "max_height": null,
            "align_content": null,
            "visibility": null,
            "align_self": null,
            "height": null,
            "min_height": null,
            "padding": null,
            "grid_auto_rows": null,
            "grid_gap": null,
            "max_width": null,
            "order": null,
            "_view_module_version": "1.2.0",
            "grid_template_areas": null,
            "object_position": null,
            "object_fit": null,
            "grid_auto_columns": null,
            "margin": null,
            "display": null,
            "left": null
          }
        },
        "9d631200958f414b91261270b64b94a3": {
          "model_module": "@jupyter-widgets/controls",
          "model_name": "IntSliderModel",
          "state": {
            "_view_name": "IntSliderView",
            "style": "IPY_MODEL_606202b7090748adb1a07d6387abab07",
            "_dom_classes": [],
            "description": "Initial Salary",
            "step": 500,
            "_model_name": "IntSliderModel",
            "orientation": "horizontal",
            "max": 25000,
            "_view_module": "@jupyter-widgets/controls",
            "_model_module_version": "1.5.0",
            "value": 15000,
            "_view_count": null,
            "disabled": false,
            "_view_module_version": "1.5.0",
            "min": 0,
            "continuous_update": true,
            "readout_format": "d",
            "description_tooltip": null,
            "readout": true,
            "_model_module": "@jupyter-widgets/controls",
            "layout": "IPY_MODEL_e55ca8b9b2df4ab1a51edd599f91c3a2"
          }
        },
        "f2be40600a204451a56cc52b8534e42a": {
          "model_module": "@jupyter-widgets/controls",
          "model_name": "FloatSliderModel",
          "state": {
            "_view_name": "FloatSliderView",
            "style": "IPY_MODEL_f5bb655759534106a8fdedeaa1df9e55",
            "_dom_classes": [],
            "description": "Savings Ratio",
            "step": 0.01,
            "_model_name": "FloatSliderModel",
            "orientation": "horizontal",
            "max": 1,
            "_view_module": "@jupyter-widgets/controls",
            "_model_module_version": "1.5.0",
            "value": 0.2,
            "_view_count": null,
            "disabled": false,
            "_view_module_version": "1.5.0",
            "min": 0,
            "continuous_update": true,
            "readout_format": ".2f",
            "description_tooltip": null,
            "readout": true,
            "_model_module": "@jupyter-widgets/controls",
            "layout": "IPY_MODEL_e55ca8b9b2df4ab1a51edd599f91c3a2"
          }
        },
        "07ca95cd67b54f2c9794949b165bac45": {
          "model_module": "@jupyter-widgets/controls",
          "model_name": "FloatSliderModel",
          "state": {
            "_view_name": "FloatSliderView",
            "style": "IPY_MODEL_745bacf46eb845b4a386b78eb45afa46",
            "_dom_classes": [],
            "description": "Extraordinary Expenses",
            "step": 0.005,
            "_model_name": "FloatSliderModel",
            "orientation": "horizontal",
            "max": 1,
            "_view_module": "@jupyter-widgets/controls",
            "_model_module_version": "1.5.0",
            "value": 0.3,
            "_view_count": null,
            "disabled": false,
            "_view_module_version": "1.5.0",
            "min": 0,
            "continuous_update": true,
            "readout_format": ".2f",
            "description_tooltip": null,
            "readout": true,
            "_model_module": "@jupyter-widgets/controls",
            "layout": "IPY_MODEL_e55ca8b9b2df4ab1a51edd599f91c3a2"
          }
        },
        "7e58e55fe4cf48e68ae136cfecfc0e5b": {
          "model_module": "@jupyter-widgets/controls",
          "model_name": "IntSliderModel",
          "state": {
            "_view_name": "IntSliderView",
            "style": "IPY_MODEL_bf0380b538a74915ac15f6d10f005777",
            "_dom_classes": [],
            "description": "Fixed Costs",
            "step": 1,
            "_model_name": "IntSliderModel",
            "orientation": "horizontal",
            "max": 1000,
            "_view_module": "@jupyter-widgets/controls",
            "_model_module_version": "1.5.0",
            "value": 100,
            "_view_count": null,
            "disabled": false,
            "_view_module_version": "1.5.0",
            "min": 1,
            "continuous_update": true,
            "readout_format": "d",
            "description_tooltip": null,
            "readout": true,
            "_model_module": "@jupyter-widgets/controls",
            "layout": "IPY_MODEL_e55ca8b9b2df4ab1a51edd599f91c3a2"
          }
        },
        "10c47e1a8493452d8307d5342af1a284": {
          "model_module": "@jupyter-widgets/controls",
          "model_name": "IntSliderModel",
          "state": {
            "_view_name": "IntSliderView",
            "style": "IPY_MODEL_d8fac0efa8c1440798974d6d81e97e1b",
            "_dom_classes": [],
            "description": "Total Number of Days",
            "step": 5,
            "_model_name": "IntSliderModel",
            "orientation": "horizontal",
            "max": 600,
            "_view_module": "@jupyter-widgets/controls",
            "_model_module_version": "1.5.0",
            "value": 30,
            "_view_count": null,
            "disabled": false,
            "_view_module_version": "1.5.0",
            "min": 1,
            "continuous_update": true,
            "readout_format": "d",
            "description_tooltip": null,
            "readout": true,
            "_model_module": "@jupyter-widgets/controls",
            "layout": "IPY_MODEL_e55ca8b9b2df4ab1a51edd599f91c3a2"
          }
        },
        "ee5a8dc283364514a2423d0109dd0b80": {
          "model_module": "@jupyter-widgets/output",
          "model_name": "OutputModel",
          "state": {
            "_view_name": "OutputView",
            "msg_id": "",
            "_dom_classes": [],
            "_model_name": "OutputModel",
            "outputs": [
              {
                "output_type": "display_data",
                "metadata": {
                  "tags": [],
                  "needs_background": "light"
                },
                "image/png": "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\n",
                "text/plain": "<Figure size 1080x720 with 1 Axes>"
              }
            ],
            "_view_module": "@jupyter-widgets/output",
            "_model_module_version": "1.0.0",
            "_view_count": null,
            "_view_module_version": "1.0.0",
            "layout": "IPY_MODEL_98ea7bcf5cf145deaebd599969a6f51a",
            "_model_module": "@jupyter-widgets/output"
          }
        },
        "606202b7090748adb1a07d6387abab07": {
          "model_module": "@jupyter-widgets/controls",
          "model_name": "SliderStyleModel",
          "state": {
            "_view_name": "StyleView",
            "handle_color": null,
            "_model_name": "SliderStyleModel",
            "description_width": "150px",
            "_view_module": "@jupyter-widgets/base",
            "_model_module_version": "1.5.0",
            "_view_count": null,
            "_view_module_version": "1.2.0",
            "_model_module": "@jupyter-widgets/controls"
          }
        },
        "e55ca8b9b2df4ab1a51edd599f91c3a2": {
          "model_module": "@jupyter-widgets/base",
          "model_name": "LayoutModel",
          "state": {
            "_view_name": "LayoutView",
            "grid_template_rows": null,
            "right": null,
            "justify_content": null,
            "_view_module": "@jupyter-widgets/base",
            "overflow": null,
            "_model_module_version": "1.2.0",
            "_view_count": null,
            "flex_flow": null,
            "width": "99%",
            "min_width": null,
            "border": null,
            "align_items": null,
            "bottom": null,
            "_model_module": "@jupyter-widgets/base",
            "top": null,
            "grid_column": null,
            "overflow_y": null,
            "overflow_x": null,
            "grid_auto_flow": null,
            "grid_area": null,
            "grid_template_columns": null,
            "flex": null,
            "_model_name": "LayoutModel",
            "justify_items": null,
            "grid_row": null,
            "max_height": null,
            "align_content": null,
            "visibility": null,
            "align_self": null,
            "height": null,
            "min_height": null,
            "padding": null,
            "grid_auto_rows": null,
            "grid_gap": null,
            "max_width": null,
            "order": null,
            "_view_module_version": "1.2.0",
            "grid_template_areas": null,
            "object_position": null,
            "object_fit": null,
            "grid_auto_columns": null,
            "margin": null,
            "display": null,
            "left": null
          }
        },
        "f5bb655759534106a8fdedeaa1df9e55": {
          "model_module": "@jupyter-widgets/controls",
          "model_name": "SliderStyleModel",
          "state": {
            "_view_name": "StyleView",
            "handle_color": null,
            "_model_name": "SliderStyleModel",
            "description_width": "150px",
            "_view_module": "@jupyter-widgets/base",
            "_model_module_version": "1.5.0",
            "_view_count": null,
            "_view_module_version": "1.2.0",
            "_model_module": "@jupyter-widgets/controls"
          }
        },
        "745bacf46eb845b4a386b78eb45afa46": {
          "model_module": "@jupyter-widgets/controls",
          "model_name": "SliderStyleModel",
          "state": {
            "_view_name": "StyleView",
            "handle_color": null,
            "_model_name": "SliderStyleModel",
            "description_width": "150px",
            "_view_module": "@jupyter-widgets/base",
            "_model_module_version": "1.5.0",
            "_view_count": null,
            "_view_module_version": "1.2.0",
            "_model_module": "@jupyter-widgets/controls"
          }
        },
        "bf0380b538a74915ac15f6d10f005777": {
          "model_module": "@jupyter-widgets/controls",
          "model_name": "SliderStyleModel",
          "state": {
            "_view_name": "StyleView",
            "handle_color": null,
            "_model_name": "SliderStyleModel",
            "description_width": "150px",
            "_view_module": "@jupyter-widgets/base",
            "_model_module_version": "1.5.0",
            "_view_count": null,
            "_view_module_version": "1.2.0",
            "_model_module": "@jupyter-widgets/controls"
          }
        },
        "d8fac0efa8c1440798974d6d81e97e1b": {
          "model_module": "@jupyter-widgets/controls",
          "model_name": "SliderStyleModel",
          "state": {
            "_view_name": "StyleView",
            "handle_color": null,
            "_model_name": "SliderStyleModel",
            "description_width": "150px",
            "_view_module": "@jupyter-widgets/base",
            "_model_module_version": "1.5.0",
            "_view_count": null,
            "_view_module_version": "1.2.0",
            "_model_module": "@jupyter-widgets/controls"
          }
        },
        "98ea7bcf5cf145deaebd599969a6f51a": {
          "model_module": "@jupyter-widgets/base",
          "model_name": "LayoutModel",
          "state": {
            "_view_name": "LayoutView",
            "grid_template_rows": null,
            "right": null,
            "justify_content": null,
            "_view_module": "@jupyter-widgets/base",
            "overflow": null,
            "_model_module_version": "1.2.0",
            "_view_count": null,
            "flex_flow": null,
            "width": null,
            "min_width": null,
            "border": null,
            "align_items": null,
            "bottom": null,
            "_model_module": "@jupyter-widgets/base",
            "top": null,
            "grid_column": null,
            "overflow_y": null,
            "overflow_x": null,
            "grid_auto_flow": null,
            "grid_area": null,
            "grid_template_columns": null,
            "flex": null,
            "_model_name": "LayoutModel",
            "justify_items": null,
            "grid_row": null,
            "max_height": null,
            "align_content": null,
            "visibility": null,
            "align_self": null,
            "height": null,
            "min_height": null,
            "padding": null,
            "grid_auto_rows": null,
            "grid_gap": null,
            "max_width": null,
            "order": null,
            "_view_module_version": "1.2.0",
            "grid_template_areas": null,
            "object_position": null,
            "object_fit": null,
            "grid_auto_columns": null,
            "margin": null,
            "display": null,
            "left": null
          }
        }
      }
    }
  },
  "cells": [
    {
      "cell_type": "markdown",
      "metadata": {
        "id": "view-in-github",
        "colab_type": "text"
      },
      "source": [
        "<a href=\"https://colab.research.google.com/github/Araujo2021/testeColabGithub/blob/main/example-plot-function.ipynb\" target=\"_parent\"><img src=\"https://colab.research.google.com/assets/colab-badge.svg\" alt=\"Open In Colab\"/></a>"
      ]
    },
    {
      "cell_type": "code",
      "metadata": {
        "id": "lhGFwbKcJWsB"
      },
      "source": [
        "# General Purpose\n",
        "import numpy as np\n",
        "from matplotlib import pyplot as plt\n",
        "from scipy.integrate import odeint\n",
        "\n",
        "# Jupyter Specifics\n",
        "from IPython.display import HTML\n",
        "from ipywidgets.widgets import interact, IntSlider, FloatSlider, Layout\n",
        "\n",
        "%matplotlib inline\n",
        "\n",
        "style = {'description_width': '150px'}\n",
        "slider_layout = Layout(width='99%')"
      ],
      "execution_count": 1,
      "outputs": []
    },
    {
      "cell_type": "code",
      "metadata": {
        "id": "gmDDKzWlJsCj"
      },
      "source": [
        ""
      ],
      "execution_count": null,
      "outputs": []
    },
    {
      "cell_type": "code",
      "metadata": {
        "colab": {
          "base_uri": "https://localhost:8080/",
          "height": 766,
          "referenced_widgets": [
            "70b985f8fb2a4342b27dca9a2d8f35cd",
            "608f400409ed47a28d946a5b755df269",
            "9d631200958f414b91261270b64b94a3",
            "f2be40600a204451a56cc52b8534e42a",
            "07ca95cd67b54f2c9794949b165bac45",
            "7e58e55fe4cf48e68ae136cfecfc0e5b",
            "10c47e1a8493452d8307d5342af1a284",
            "ee5a8dc283364514a2423d0109dd0b80",
            "606202b7090748adb1a07d6387abab07",
            "e55ca8b9b2df4ab1a51edd599f91c3a2",
            "f5bb655759534106a8fdedeaa1df9e55",
            "745bacf46eb845b4a386b78eb45afa46",
            "bf0380b538a74915ac15f6d10f005777",
            "d8fac0efa8c1440798974d6d81e97e1b",
            "98ea7bcf5cf145deaebd599969a6f51a"
          ]
        },
        "id": "R649IwWKVzB3",
        "outputId": "c9e0aec8-f800-49c3-8cd0-7a012fad44a1"
      },
      "source": [
        "def main(initial_salary, savings_ratio, extraordinary_expenses, fixed_costs, days):\n",
        "    saving_limit = savings_ratio * initial_salary\n",
        "\n",
        "    def function(capital, time):\n",
        "        if capital <= saving_limit:\n",
        "            out_rate = 0\n",
        "        else:\n",
        "            out_rate = extraordinary_expenses * (capital - saving_limit)\n",
        "        return -fixed_costs - out_rate\n",
        "\n",
        "    time = np.linspace(0, days, days * 10)\n",
        "\n",
        "    solution = odeint(function, initial_salary, time)\n",
        "\n",
        "    #Graphic details\n",
        "    fig, ax = plt.subplots(figsize=(15, 10))\n",
        "\n",
        "    ax.plot((0, days), (saving_limit, saving_limit), label='Saving Limit')\n",
        "    ax.plot(time, solution, label='Capital(t)')\n",
        "\n",
        "    if days <= 60:\n",
        "        step = 1\n",
        "        rotation = \"horizontal\"\n",
        "    elif days <= 300:\n",
        "        step = 5\n",
        "        rotation = \"vertical\"\n",
        "    else:\n",
        "        step = 10\n",
        "        rotation = \"vertical\"\n",
        "\n",
        "    ax.set_xticklabels(np.arange(0, days + 1, step, dtype=np.int), rotation=rotation)\n",
        "    ax.set_xticks(np.arange(0, days + 1, step))\n",
        "\n",
        "    ax.set_yticks(np.arange(0, initial_salary * 1.1, initial_salary / 20))\n",
        "\n",
        "    ax.set_xlim([0, days])\n",
        "    ax.set_ylim([0, initial_salary * 1.1])\n",
        "    ax.set_xlabel('Days')\n",
        "    ax.set_ylabel('Capital $')\n",
        "    ax.legend(loc='best')\n",
        "    ax.grid()\n",
        "\n",
        "    plt.show()\n",
        "\n",
        "interact(main, initial_salary=IntSlider(min=0, max=25000, step=500, value=15000, description='Initial Salary', style=style, layout=slider_layout),\n",
        "               savings_ratio=FloatSlider(min=0, max=1, step=0.01, value=0.2, description='Savings Ratio', style=style, layout=slider_layout),\n",
        "               extraordinary_expenses=FloatSlider(min=0, max=1, step=0.005, description='Extraordinary Expenses', style=style, value=0.3, layout=slider_layout),\n",
        "               fixed_costs=IntSlider(min=1, max=1000, step=1, value=100, description='Fixed Costs', style=style, layout=slider_layout),\n",
        "               days=IntSlider(min=1, max=600, step=5, value=30, description='Total Number of Days', style=style, layout=slider_layout)\n",
        "        );"
      ],
      "execution_count": 2,
      "outputs": [
        {
          "output_type": "display_data",
          "data": {
            "application/vnd.jupyter.widget-view+json": {
              "model_id": "70b985f8fb2a4342b27dca9a2d8f35cd",
              "version_minor": 0,
              "version_major": 2
            },
            "text/plain": [
              "interactive(children=(IntSlider(value=15000, description='Initial Salary', layout=Layout(width='99%'), max=250…"
            ]
          },
          "metadata": {
            "tags": []
          }
        }
      ]
    }
  ]
}